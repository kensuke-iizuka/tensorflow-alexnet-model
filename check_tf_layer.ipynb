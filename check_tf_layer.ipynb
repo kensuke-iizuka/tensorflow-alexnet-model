{
 "cells": [
  {
   "cell_type": "code",
   "execution_count": 1,
   "metadata": {},
   "outputs": [
    {
     "name": "stderr",
     "output_type": "stream",
     "text": [
      "/home/kiizuka/.venv/python3-tf/lib/python3.6/site-packages/tensorflow/python/framework/dtypes.py:516: FutureWarning: Passing (type, 1) or '1type' as a synonym of type is deprecated; in a future version of numpy, it will be understood as (type, (1,)) / '(1,)type'.\n",
      "  _np_qint8 = np.dtype([(\"qint8\", np.int8, 1)])\n",
      "/home/kiizuka/.venv/python3-tf/lib/python3.6/site-packages/tensorflow/python/framework/dtypes.py:517: FutureWarning: Passing (type, 1) or '1type' as a synonym of type is deprecated; in a future version of numpy, it will be understood as (type, (1,)) / '(1,)type'.\n",
      "  _np_quint8 = np.dtype([(\"quint8\", np.uint8, 1)])\n",
      "/home/kiizuka/.venv/python3-tf/lib/python3.6/site-packages/tensorflow/python/framework/dtypes.py:518: FutureWarning: Passing (type, 1) or '1type' as a synonym of type is deprecated; in a future version of numpy, it will be understood as (type, (1,)) / '(1,)type'.\n",
      "  _np_qint16 = np.dtype([(\"qint16\", np.int16, 1)])\n",
      "/home/kiizuka/.venv/python3-tf/lib/python3.6/site-packages/tensorflow/python/framework/dtypes.py:519: FutureWarning: Passing (type, 1) or '1type' as a synonym of type is deprecated; in a future version of numpy, it will be understood as (type, (1,)) / '(1,)type'.\n",
      "  _np_quint16 = np.dtype([(\"quint16\", np.uint16, 1)])\n",
      "/home/kiizuka/.venv/python3-tf/lib/python3.6/site-packages/tensorflow/python/framework/dtypes.py:520: FutureWarning: Passing (type, 1) or '1type' as a synonym of type is deprecated; in a future version of numpy, it will be understood as (type, (1,)) / '(1,)type'.\n",
      "  _np_qint32 = np.dtype([(\"qint32\", np.int32, 1)])\n",
      "/home/kiizuka/.venv/python3-tf/lib/python3.6/site-packages/tensorflow/python/framework/dtypes.py:525: FutureWarning: Passing (type, 1) or '1type' as a synonym of type is deprecated; in a future version of numpy, it will be understood as (type, (1,)) / '(1,)type'.\n",
      "  np_resource = np.dtype([(\"resource\", np.ubyte, 1)])\n",
      "/home/kiizuka/.venv/python3-tf/lib/python3.6/site-packages/tensorboard/compat/tensorflow_stub/dtypes.py:541: FutureWarning: Passing (type, 1) or '1type' as a synonym of type is deprecated; in a future version of numpy, it will be understood as (type, (1,)) / '(1,)type'.\n",
      "  _np_qint8 = np.dtype([(\"qint8\", np.int8, 1)])\n",
      "/home/kiizuka/.venv/python3-tf/lib/python3.6/site-packages/tensorboard/compat/tensorflow_stub/dtypes.py:542: FutureWarning: Passing (type, 1) or '1type' as a synonym of type is deprecated; in a future version of numpy, it will be understood as (type, (1,)) / '(1,)type'.\n",
      "  _np_quint8 = np.dtype([(\"quint8\", np.uint8, 1)])\n",
      "/home/kiizuka/.venv/python3-tf/lib/python3.6/site-packages/tensorboard/compat/tensorflow_stub/dtypes.py:543: FutureWarning: Passing (type, 1) or '1type' as a synonym of type is deprecated; in a future version of numpy, it will be understood as (type, (1,)) / '(1,)type'.\n",
      "  _np_qint16 = np.dtype([(\"qint16\", np.int16, 1)])\n",
      "/home/kiizuka/.venv/python3-tf/lib/python3.6/site-packages/tensorboard/compat/tensorflow_stub/dtypes.py:544: FutureWarning: Passing (type, 1) or '1type' as a synonym of type is deprecated; in a future version of numpy, it will be understood as (type, (1,)) / '(1,)type'.\n",
      "  _np_quint16 = np.dtype([(\"quint16\", np.uint16, 1)])\n",
      "/home/kiizuka/.venv/python3-tf/lib/python3.6/site-packages/tensorboard/compat/tensorflow_stub/dtypes.py:545: FutureWarning: Passing (type, 1) or '1type' as a synonym of type is deprecated; in a future version of numpy, it will be understood as (type, (1,)) / '(1,)type'.\n",
      "  _np_qint32 = np.dtype([(\"qint32\", np.int32, 1)])\n",
      "/home/kiizuka/.venv/python3-tf/lib/python3.6/site-packages/tensorboard/compat/tensorflow_stub/dtypes.py:550: FutureWarning: Passing (type, 1) or '1type' as a synonym of type is deprecated; in a future version of numpy, it will be understood as (type, (1,)) / '(1,)type'.\n",
      "  np_resource = np.dtype([(\"resource\", np.ubyte, 1)])\n"
     ]
    }
   ],
   "source": [
    "import tensorflow as tf\n",
    "import numpy as np"
   ]
  },
  {
   "cell_type": "code",
   "execution_count": 10,
   "metadata": {},
   "outputs": [
    {
     "name": "stdout",
     "output_type": "stream",
     "text": [
      "<class 'numpy.ndarray'>\n",
      "(1, 5, 5, 3)\n"
     ]
    }
   ],
   "source": [
    "input = np.array([\n",
    "    [\n",
    "        [230,230,230],[210,210,210],[190,190,190],[170,170,170],[150,150,150]\n",
    "    ],\n",
    "    [\n",
    "        [230,230,230],[210,210,210],[190,190,190],[170,170,170],[150,150,150]\n",
    "    ],\n",
    "    [\n",
    "        [230,230,230],[210,210,210],[190,190,190],[170,170,170],[150,150,150]\n",
    "    ],\n",
    "    [\n",
    "        [230,230,230],[210,210,210],[190,190,190],[170,170,170],[150,150,150]\n",
    "    ],\n",
    "    [\n",
    "        [230,230,230],[210,210,210],[190,190,190],[170,170,170],[150,150,150]\n",
    "    ],\n",
    "])\n",
    "\n",
    "depth_radius = 2\n",
    "bias = 1.0\n",
    "alpha = 0.001 / 9.0\n",
    "beta = 0.75\n",
    "\n",
    "input_for_tf = np.zeros([1, input.shape[0], input.shape[1], input.shape[2]])\n",
    "input_for_tf[0] = input\n",
    "output2 = tf.nn.lrn(input_for_tf, depth_radius, bias=bias, alpha=alpha, beta=beta)\n",
    "with tf.Session() as sess:\n",
    "    out = sess.run(output2)\n",
    "    print(type(out))\n",
    "    print(out.shape)"
   ]
  },
  {
   "cell_type": "markdown",
   "metadata": {},
   "source": [
    "## Check convolution using TensorFlow"
   ]
  },
  {
   "cell_type": "code",
   "execution_count": 9,
   "metadata": {},
   "outputs": [
    {
     "name": "stdout",
     "output_type": "stream",
     "text": [
      "<class 'numpy.ndarray'>\n",
      "[[[[363. 363. 363. ... 363. 363. 363.]\n",
      "   [363. 363. 363. ... 363. 363. 363.]\n",
      "   [363. 363. 363. ... 363. 363. 363.]\n",
      "   ...\n",
      "   [363. 363. 363. ... 363. 363. 363.]\n",
      "   [363. 363. 363. ... 363. 363. 363.]\n",
      "   [363. 363. 363. ... 363. 363. 363.]]\n",
      "\n",
      "  [[363. 363. 363. ... 363. 363. 363.]\n",
      "   [363. 363. 363. ... 363. 363. 363.]\n",
      "   [363. 363. 363. ... 363. 363. 363.]\n",
      "   ...\n",
      "   [363. 363. 363. ... 363. 363. 363.]\n",
      "   [363. 363. 363. ... 363. 363. 363.]\n",
      "   [363. 363. 363. ... 363. 363. 363.]]\n",
      "\n",
      "  [[363. 363. 363. ... 363. 363. 363.]\n",
      "   [363. 363. 363. ... 363. 363. 363.]\n",
      "   [363. 363. 363. ... 363. 363. 363.]\n",
      "   ...\n",
      "   [363. 363. 363. ... 363. 363. 363.]\n",
      "   [363. 363. 363. ... 363. 363. 363.]\n",
      "   [363. 363. 363. ... 363. 363. 363.]]\n",
      "\n",
      "  ...\n",
      "\n",
      "  [[363. 363. 363. ... 363. 363. 363.]\n",
      "   [363. 363. 363. ... 363. 363. 363.]\n",
      "   [363. 363. 363. ... 363. 363. 363.]\n",
      "   ...\n",
      "   [363. 363. 363. ... 363. 363. 363.]\n",
      "   [363. 363. 363. ... 363. 363. 363.]\n",
      "   [363. 363. 363. ... 363. 363. 363.]]\n",
      "\n",
      "  [[363. 363. 363. ... 363. 363. 363.]\n",
      "   [363. 363. 363. ... 363. 363. 363.]\n",
      "   [363. 363. 363. ... 363. 363. 363.]\n",
      "   ...\n",
      "   [363. 363. 363. ... 363. 363. 363.]\n",
      "   [363. 363. 363. ... 363. 363. 363.]\n",
      "   [363. 363. 363. ... 363. 363. 363.]]\n",
      "\n",
      "  [[363. 363. 363. ... 363. 363. 363.]\n",
      "   [363. 363. 363. ... 363. 363. 363.]\n",
      "   [363. 363. 363. ... 363. 363. 363.]\n",
      "   ...\n",
      "   [363. 363. 363. ... 363. 363. 363.]\n",
      "   [363. 363. 363. ... 363. 363. 363.]\n",
      "   [363. 363. 363. ... 363. 363. 363.]]]]\n"
     ]
    }
   ],
   "source": [
    "conv_input = np.ones([1,  227, 227, 3])\n",
    "weights = np.ones([11, 11, 3, 55])\n",
    "stride = 4\n",
    "padding = 0\n",
    "output = tf.nn.conv2d(\n",
    "    conv_input,\n",
    "    filter=weights,\n",
    "    strides=stride,\n",
    "    padding='VALID',\n",
    "    data_format='NHWC',\n",
    "    dilations=[1, 1, 1, 1],\n",
    "    name='test_conv'\n",
    ")\n",
    "with tf.Session() as sess:\n",
    "    out = sess.run(output)\n",
    "    print(type(out))\n",
    "    print(out)"
   ]
  },
  {
   "cell_type": "code",
   "execution_count": 12,
   "metadata": {},
   "outputs": [
    {
     "name": "stdout",
     "output_type": "stream",
     "text": [
      "(1, 96, 55, 55)\n",
      "(1, 27, 27, 96)\n"
     ]
    }
   ],
   "source": [
    "# params for lrn\n",
    "depth_radius = 5\n",
    "bias = 1.0\n",
    "alpha = 0.0001\n",
    "beta = 0.75\n",
    "\n",
    "# params for max_pool\n",
    "ksize = 3\n",
    "padding = 0\n",
    "strides = 2\n",
    "\n",
    "pool1_input = np.ones([1, 96, 55, 55], dtype=np.float32)\n",
    "# print(pool1_input.dtype)\n",
    "\n",
    "relu = tf.nn.relu(pool1_input)\n",
    "lrn = tf.nn.lrn(relu, depth_radius, bias=bias, alpha=alpha, beta=beta)\n",
    "print(lrn.shape)\n",
    "\n",
    "pool_test = np.ones([1, 55, 55, 96], dtype=np.float32)\n",
    "pool_out = tf.nn.max_pool2d(pool_test, ksize=ksize, strides=strides, padding='VALID', data_format='NHWC', name='pool1')\n",
    "\n",
    "with tf.compat.v1.Session() as sess:\n",
    "    out = sess.run(pool_out)\n",
    "    print(out.shape)"
   ]
  },
  {
   "cell_type": "code",
   "execution_count": null,
   "metadata": {},
   "outputs": [],
   "source": []
  }
 ],
 "metadata": {
  "kernelspec": {
   "display_name": "python3-tf",
   "language": "python",
   "name": "python3-tf"
  },
  "language_info": {
   "codemirror_mode": {
    "name": "ipython",
    "version": 3
   },
   "file_extension": ".py",
   "mimetype": "text/x-python",
   "name": "python",
   "nbconvert_exporter": "python",
   "pygments_lexer": "ipython3",
   "version": "3.6.8"
  }
 },
 "nbformat": 4,
 "nbformat_minor": 4
}
