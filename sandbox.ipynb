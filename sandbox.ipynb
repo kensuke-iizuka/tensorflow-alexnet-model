{
 "cells": [
  {
   "cell_type": "code",
   "execution_count": 3,
   "metadata": {},
   "outputs": [
    {
     "name": "stderr",
     "output_type": "stream",
     "text": [
      "/home/kiizuka/.venv/python3-tf/lib/python3.6/site-packages/tensorflow/python/framework/dtypes.py:516: FutureWarning: Passing (type, 1) or '1type' as a synonym of type is deprecated; in a future version of numpy, it will be understood as (type, (1,)) / '(1,)type'.\n",
      "  _np_qint8 = np.dtype([(\"qint8\", np.int8, 1)])\n",
      "/home/kiizuka/.venv/python3-tf/lib/python3.6/site-packages/tensorflow/python/framework/dtypes.py:517: FutureWarning: Passing (type, 1) or '1type' as a synonym of type is deprecated; in a future version of numpy, it will be understood as (type, (1,)) / '(1,)type'.\n",
      "  _np_quint8 = np.dtype([(\"quint8\", np.uint8, 1)])\n",
      "/home/kiizuka/.venv/python3-tf/lib/python3.6/site-packages/tensorflow/python/framework/dtypes.py:518: FutureWarning: Passing (type, 1) or '1type' as a synonym of type is deprecated; in a future version of numpy, it will be understood as (type, (1,)) / '(1,)type'.\n",
      "  _np_qint16 = np.dtype([(\"qint16\", np.int16, 1)])\n",
      "/home/kiizuka/.venv/python3-tf/lib/python3.6/site-packages/tensorflow/python/framework/dtypes.py:519: FutureWarning: Passing (type, 1) or '1type' as a synonym of type is deprecated; in a future version of numpy, it will be understood as (type, (1,)) / '(1,)type'.\n",
      "  _np_quint16 = np.dtype([(\"quint16\", np.uint16, 1)])\n",
      "/home/kiizuka/.venv/python3-tf/lib/python3.6/site-packages/tensorflow/python/framework/dtypes.py:520: FutureWarning: Passing (type, 1) or '1type' as a synonym of type is deprecated; in a future version of numpy, it will be understood as (type, (1,)) / '(1,)type'.\n",
      "  _np_qint32 = np.dtype([(\"qint32\", np.int32, 1)])\n",
      "/home/kiizuka/.venv/python3-tf/lib/python3.6/site-packages/tensorflow/python/framework/dtypes.py:525: FutureWarning: Passing (type, 1) or '1type' as a synonym of type is deprecated; in a future version of numpy, it will be understood as (type, (1,)) / '(1,)type'.\n",
      "  np_resource = np.dtype([(\"resource\", np.ubyte, 1)])\n",
      "/home/kiizuka/.venv/python3-tf/lib/python3.6/site-packages/tensorboard/compat/tensorflow_stub/dtypes.py:541: FutureWarning: Passing (type, 1) or '1type' as a synonym of type is deprecated; in a future version of numpy, it will be understood as (type, (1,)) / '(1,)type'.\n",
      "  _np_qint8 = np.dtype([(\"qint8\", np.int8, 1)])\n",
      "/home/kiizuka/.venv/python3-tf/lib/python3.6/site-packages/tensorboard/compat/tensorflow_stub/dtypes.py:542: FutureWarning: Passing (type, 1) or '1type' as a synonym of type is deprecated; in a future version of numpy, it will be understood as (type, (1,)) / '(1,)type'.\n",
      "  _np_quint8 = np.dtype([(\"quint8\", np.uint8, 1)])\n",
      "/home/kiizuka/.venv/python3-tf/lib/python3.6/site-packages/tensorboard/compat/tensorflow_stub/dtypes.py:543: FutureWarning: Passing (type, 1) or '1type' as a synonym of type is deprecated; in a future version of numpy, it will be understood as (type, (1,)) / '(1,)type'.\n",
      "  _np_qint16 = np.dtype([(\"qint16\", np.int16, 1)])\n",
      "/home/kiizuka/.venv/python3-tf/lib/python3.6/site-packages/tensorboard/compat/tensorflow_stub/dtypes.py:544: FutureWarning: Passing (type, 1) or '1type' as a synonym of type is deprecated; in a future version of numpy, it will be understood as (type, (1,)) / '(1,)type'.\n",
      "  _np_quint16 = np.dtype([(\"quint16\", np.uint16, 1)])\n",
      "/home/kiizuka/.venv/python3-tf/lib/python3.6/site-packages/tensorboard/compat/tensorflow_stub/dtypes.py:545: FutureWarning: Passing (type, 1) or '1type' as a synonym of type is deprecated; in a future version of numpy, it will be understood as (type, (1,)) / '(1,)type'.\n",
      "  _np_qint32 = np.dtype([(\"qint32\", np.int32, 1)])\n",
      "/home/kiizuka/.venv/python3-tf/lib/python3.6/site-packages/tensorboard/compat/tensorflow_stub/dtypes.py:550: FutureWarning: Passing (type, 1) or '1type' as a synonym of type is deprecated; in a future version of numpy, it will be understood as (type, (1,)) / '(1,)type'.\n",
      "  np_resource = np.dtype([(\"resource\", np.ubyte, 1)])\n"
     ]
    }
   ],
   "source": [
    "import tensorflow as tf\n",
    "import numpy as np\n",
    "import cv2"
   ]
  },
  {
   "cell_type": "code",
   "execution_count": 12,
   "metadata": {},
   "outputs": [
    {
     "name": "stdout",
     "output_type": "stream",
     "text": [
      "(534, 800, 3)\n",
      "(53, 80, 3)\n",
      "(3, 53, 80)\n"
     ]
    }
   ],
   "source": [
    "img_path = './italia.jpg'\n",
    "img = cv2.imread(img_path)\n",
    "print(img.shape)\n",
    "img = cv2.resize(img, (80, 53))\n",
    "print(img.shape)\n",
    "# print(img)\n",
    "# for i in range(img.shape[0]):\n",
    "#     for j in range(img.shape[1]):\n",
    "#         for k in range(img.shape[2]):\n",
    "#             print(img[i][j])\n",
    "# print(img[10][39][1])\n",
    "trans_img = img.transpose([2, 0, 1])\n",
    "print(trans_img.shape)\n",
    "# print(trans_img[1][10][39])\n",
    "for i in range(trans_img.shape[0]):\n",
    "    for j in range(trans_img.shape[1]):\n",
    "        for k in range(trans_img.shape[2]):\n",
    "            if(trans_img[i][j][k] != img[j][k][i]):\n",
    "                print(\"The wrong transpose data\")\n",
    "                print(\"CH::{}, H::{}, W::{}\".format(i, j, k))"
   ]
  },
  {
   "cell_type": "markdown",
   "metadata": {},
   "source": [
    "## Compare weight data (in npy file vs in onnx data)"
   ]
  },
  {
   "cell_type": "code",
   "execution_count": 23,
   "metadata": {},
   "outputs": [],
   "source": [
    "def load_weights(op_name, weights_path='./bvlc_alexnet.npy'):\n",
    "    weights_dict = np.load(weights_path, allow_pickle=True, encoding='bytes').item()\n",
    "    return weights_dict[op_name]"
   ]
  },
  {
   "cell_type": "code",
   "execution_count": 24,
   "metadata": {},
   "outputs": [],
   "source": [
    "tf_weight = load_weights('conv1')[0].transpose([3,2,0,1])\n",
    "tf_bias = load_weights('conv1')[1]\n",
    "onnx_weight = np.load('onnx_conv1_w_0', allow_pickle=True, encoding='bytes')\n",
    "onnx_bias = np.load('onnx_conv1_b_0', allow_pickle=True, encoding='bytes')"
   ]
  },
  {
   "cell_type": "code",
   "execution_count": 25,
   "metadata": {},
   "outputs": [],
   "source": [
    "if(tf_weight.shape != onnx_weight.shape):\n",
    "    print(\"The size of weight is wrong\")\n",
    "    print(\"TF_W:: \", tf_weight.shape)\n",
    "    print(\"ONNX_W:: \", onnx_weight.shape)\n",
    "if(tf_bias.shape != onnx_bias.shape):\n",
    "    print(\"The size of bias is wrong\")\n",
    "if(tf_weight.dtype != onnx_weight.dtype):\n",
    "    print(\"The data type of weight is wrong\")\n",
    "if(tf_bias.dtype != onnx_bias.dtype):\n",
    "    print(\"The data type of bias is wrong\")"
   ]
  },
  {
   "cell_type": "code",
   "execution_count": 26,
   "metadata": {},
   "outputs": [
    {
     "name": "stdout",
     "output_type": "stream",
     "text": [
      "True\n",
      "True\n"
     ]
    }
   ],
   "source": [
    "onnx_w_flat = onnx_weight.flatten()\n",
    "tf_w_flat = tf_weight.flatten()\n",
    "print(np.array_equal(tf_w_flat, onnx_w_flat))\n",
    "      \n",
    "onnx_b_flat = onnx_bias.flatten()\n",
    "tf_b_flat = tf_bias.flatten()\n",
    "print(np.array_equal(tf_b_flat, onnx_b_flat))"
   ]
  },
  {
   "cell_type": "markdown",
   "metadata": {},
   "source": [
    "### Check C++ header value and numpy array"
   ]
  },
  {
   "cell_type": "markdown",
   "metadata": {},
   "source": [
    "### Error check function"
   ]
  },
  {
   "cell_type": "code",
   "execution_count": 28,
   "metadata": {},
   "outputs": [],
   "source": [
    "def error_check(arr1, arr2):\n",
    "    if np.array_equal(arr1, arr2):\n",
    "        print(\"Two array are equal\")\n",
    "        return\n",
    "    if arr1.shape != arr2.shape:\n",
    "        print(\"Two array size are different\")\n",
    "        exit()\n",
    "    errors = []\n",
    "    for i, e in enumerate(arr1):\n",
    "        error = abs(arr1[i] - arr2[i])\n",
    "        errors.append(error)\n",
    "    errors = np.array(errors, dtype=np.float32)\n",
    "    return errors"
   ]
  },
  {
   "cell_type": "code",
   "execution_count": 29,
   "metadata": {},
   "outputs": [
    {
     "name": "stdout",
     "output_type": "stream",
     "text": [
      "[1, 4.7683716e-07, 0.283837, 0.2838365]\n",
      "[701, 5.066395e-07]\n"
     ]
    }
   ],
   "source": [
    "header_bias = np.loadtxt('fpga_b.txt', dtype = np.float32)\n",
    "header_weight = np.loadtxt('fpga_w.txt', dtype = np.float32)\n",
    "# Check bias data\n",
    "bias_errors = error_check(tf_b_flat, header_bias)\n",
    "max_b_error_index = bias_errors.argmax()\n",
    "print([max_b_error_index, bias_errors[max_b_error_index], header_bias[max_b_error_index], tf_b_flat[max_b_error_index]])\n",
    "# Check weight data\n",
    "weight_errors = error_check(tf_w_flat, header_weight)\n",
    "max_w_error_index = weight_errors.argmax()\n",
    "print([max_w_error_index, weight_errors[max_w_error_index]])"
   ]
  },
  {
   "cell_type": "code",
   "execution_count": 30,
   "metadata": {},
   "outputs": [
    {
     "name": "stdout",
     "output_type": "stream",
     "text": [
      "[-0.346397 , 0.283837 ,-0.499682 ,-0.236491 ,-0.568887 ,-0.643664 ,\n",
      " -0.692477 ,-0.495555 ,-0.232274 , 0.255125 ,-0.264854 ,-0.413465 ,\n",
      " -0.434615 ,-0.700091 ,-0.474967 ,-0.475487 ,-0.6968   ,-0.465743 ,\n",
      " -0.527414 ,-0.743593 ,-0.691516 ,-0.505254 ,-0.26251  ,-0.651338 ,\n",
      " -0.411121 ,-0.599743 ,-0.68655  ,-0.501677 ,-0.722321 ,-0.606828 ,\n",
      " -0.601712 ,-0.49667  ,-0.561121 ,-0.483873 ,-0.611091 ,-0.54242  ,\n",
      " -0.569912 ,-0.436019 ,-0.395642 ,-0.371173 , 0.036627 ,-0.229277 ,\n",
      "  0.0961724,-0.480799 , 0.0201771,-0.772401 ,-0.63783  ,-0.592662 ,\n",
      " -0.472413 ,-0.515198 ,-0.715582 ,-0.263552 ,-0.629393 ,-0.323797 ,\n",
      " -0.655959 ,-0.0885214,-0.635241 ,-0.588488 ,-0.552137 ,-0.326814 ,\n",
      " -0.484541 ,-0.613501 ,-0.623194 ,-0.715386 ,-0.746007 ,-0.591131 ,\n",
      " -0.382403 ,-0.315873 ,-0.646048 ,-0.569708 ,-0.675176 ,-0.708902 ,\n",
      " -0.410006 ,-0.504767 ,-0.558701 ,-0.628178 ,-0.0866769,-0.510795 ,\n",
      "  0.172265 ,-0.547054 ,-0.559364 ,-0.551644 ,-0.181644 ,-0.0146798,\n",
      " -0.299411 ,-0.382882 ,-0.0946849,-0.0959714,-0.26413  ,-0.469217 ,\n",
      " -0.458711 ,-0.601941 ,-0.333564 ,-0.562735 ,-0.392248 ,-0.80092  ]\n"
     ]
    }
   ],
   "source": [
    "header_string = np.array2string(header_bias,separator=',')\n",
    "print(header_string)"
   ]
  },
  {
   "cell_type": "markdown",
   "metadata": {},
   "source": [
    "## Compare resized image between np.uint8 and np.float32"
   ]
  },
  {
   "cell_type": "code",
   "execution_count": 37,
   "metadata": {},
   "outputs": [],
   "source": [
    "img = cv2.imread('./images/zebra.jpeg')\n",
    "uint8_img = cv2.resize(img, (227, 227))\n",
    "fp_img = cv2.resize(img.astype(np.float32), (227, 227))\n",
    "\n",
    "def error_check(arr1, arr2):\n",
    "    if np.array_equal(arr1, arr2):\n",
    "        print(\"Two array are equal\")\n",
    "        return\n",
    "    if arr1.shape != arr2.shape:\n",
    "        print(\"Two array size are different\")\n",
    "        exit()\n",
    "    errors = []\n",
    "    for i, e in enumerate(arr1):\n",
    "        error = abs(arr1[i] - arr2[i])\n",
    "        errors.append(error)\n",
    "    return errors\n",
    "\n",
    "errors = error_check(uint8_img, fp_img)"
   ]
  },
  {
   "cell_type": "markdown",
   "metadata": {},
   "source": [
    "## Compare the result of convolution in 1st layer of AlexNet(Tensorflow vs my fpga C simulation)"
   ]
  },
  {
   "cell_type": "code",
   "execution_count": 56,
   "metadata": {},
   "outputs": [],
   "source": [
    "# fpga_result = np.loadtxt('fpga_conv_result', dtype = np.float32)\n",
    "# tf_result = np.loadtxt('tf_conv1_result_use_fpga.txt', dtype = np.float32)\n",
    "fpga_result = np.fromfile('fpga_conv_result.bin', dtype = np.float32)\n",
    "tf_result = np.fromfile('tf_conv1_result.bin', dtype = np.float32)"
   ]
  },
  {
   "cell_type": "code",
   "execution_count": 57,
   "metadata": {},
   "outputs": [
    {
     "name": "stdout",
     "output_type": "stream",
     "text": [
      "False\n",
      "(290400,)\n"
     ]
    }
   ],
   "source": [
    "if(fpga_result.shape != tf_result.shape):\n",
    "    print(\"The size of weight is wrong\")\n",
    "    print(\"FPGA:: \", fpga_result.shape)\n",
    "    print(\"TF:: \", tf_result.shape)\n",
    "if(fpga_result.dtype != tf_result.dtype):\n",
    "    print(\"The data type of bias is wrong\")\n",
    "if not np.array_equal(fpga_result, tf_result):\n",
    "    print(\"error is somewhere...\")\n",
    "print(fpga_result.shape)"
   ]
  },
  {
   "cell_type": "code",
   "execution_count": 58,
   "metadata": {},
   "outputs": [],
   "source": [
    "errors = []\n",
    "for i, e in enumerate(fpga_result):\n",
    "    error = abs(tf_result[i] - fpga_result[i])\n",
    "    errors.append(error)"
   ]
  },
  {
   "cell_type": "code",
   "execution_count": 60,
   "metadata": {},
   "outputs": [],
   "source": [
    "error_ratio = [abs(e[0]/e[1]) for e in zip(errors, tf_result)]"
   ]
  },
  {
   "cell_type": "code",
   "execution_count": 61,
   "metadata": {},
   "outputs": [
    {
     "name": "stdout",
     "output_type": "stream",
     "text": [
      "[93737, 5.9366226e-05, 0.9188192, 6.4611435e-05, 5.2452087e-06]\n"
     ]
    }
   ],
   "source": [
    "error_ratio = np.array(error_ratio, dtype=np.float32)\n",
    "mi = error_ratio.argmax()\n",
    "print([mi, errors[mi], error_ratio[mi], tf_result[mi], fpga_result[mi]])"
   ]
  },
  {
   "cell_type": "code",
   "execution_count": 65,
   "metadata": {},
   "outputs": [
    {
     "name": "stdout",
     "output_type": "stream",
     "text": [
      "2\n"
     ]
    }
   ],
   "source": [
    "cnt = 0\n",
    "for i, err in enumerate(error_ratio):\n",
    "    if err > 1.0e-01:\n",
    "        cnt = cnt+1\n",
    "print(cnt)"
   ]
  }
 ],
 "metadata": {
  "kernelspec": {
   "display_name": "python3-tf",
   "language": "python",
   "name": "python3-tf"
  },
  "language_info": {
   "codemirror_mode": {
    "name": "ipython",
    "version": 3
   },
   "file_extension": ".py",
   "mimetype": "text/x-python",
   "name": "python",
   "nbconvert_exporter": "python",
   "pygments_lexer": "ipython3",
   "version": "3.6.8"
  }
 },
 "nbformat": 4,
 "nbformat_minor": 4
}
